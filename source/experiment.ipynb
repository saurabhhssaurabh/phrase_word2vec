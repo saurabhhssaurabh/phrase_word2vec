{
 "metadata": {
  "language_info": {
   "codemirror_mode": {
    "name": "ipython",
    "version": 3
   },
   "file_extension": ".py",
   "mimetype": "text/x-python",
   "name": "python",
   "nbconvert_exporter": "python",
   "pygments_lexer": "ipython3",
   "version": "3.8.6-final"
  },
  "orig_nbformat": 2,
  "kernelspec": {
   "name": "python3",
   "display_name": "Python 3.8.6 64-bit ('general_python3_env': venv)",
   "metadata": {
    "interpreter": {
     "hash": "60d1513e2307e7270bf9e3e8b5a9805c78a7f313e74e8e050a7b70485d276108"
    }
   }
  }
 },
 "nbformat": 4,
 "nbformat_minor": 2,
 "cells": [
  {
   "cell_type": "code",
   "execution_count": 1,
   "metadata": {},
   "outputs": [],
   "source": [
    "from flashtext import KeywordProcessor\n",
    "import pandas as pd\n",
    "import os\n",
    "import gensim\n",
    "import logging\n",
    "import datetime\n",
    "\n",
    "logging.getLogger().setLevel(logging.INFO)\n",
    "\n",
    "from gensim.models import Word2Vec, KeyedVectors"
   ]
  },
  {
   "cell_type": "code",
   "execution_count": 2,
   "metadata": {},
   "outputs": [],
   "source": [
    "root_dir = os.path.abspath(os.pardir)\n",
    "data_dir = os.path.join(root_dir, \"data\")\n",
    "model_dir = os.path.join(root_dir, \"model\")\n",
    "tag_table_file = os.path.join(data_dir, \"paper_tag_table.csv\")\n",
    "paper_table_file = os.path.join(data_dir, \"paper_table.csv\")\n",
    "pre_trained_model = os.path.join(model_dir, \"GoogleNews-vectors-negative300.bin\")\n",
    "output_model_file = os.path.join(model_dir, \"model.bin\")"
   ]
  },
  {
   "cell_type": "code",
   "execution_count": 3,
   "metadata": {},
   "outputs": [],
   "source": [
    "tag_set = set(pd.read_csv(tag_table_file)['tag_text'].dropna().tolist())\n",
    "abstract_list = pd.read_csv(paper_table_file)['abstract'].dropna().tolist()[:2]"
   ]
  },
  {
   "cell_type": "code",
   "execution_count": 4,
   "metadata": {},
   "outputs": [],
   "source": [
    "from phrase_word2vec import PhraseWord2VEC"
   ]
  },
  {
   "cell_type": "code",
   "execution_count": 5,
   "metadata": {},
   "outputs": [
    {
     "output_type": "stream",
     "name": "stderr",
     "text": [
      "INFO:root:pre processing input sentences \n",
      "INFO:gensim.models.utils_any2vec:loading projection weights from c:\\Users\\saurabh\\Documents\\saurabh\\ms\\nus\\ra\\phrase_word2vec\\model\\GoogleNews-vectors-negative300.bin\n",
      "DEBUG:smart_open.smart_open_lib:{'uri': 'c:\\\\Users\\\\saurabh\\\\Documents\\\\saurabh\\\\ms\\\\nus\\\\ra\\\\phrase_word2vec\\\\model\\\\GoogleNews-vectors-negative300.bin', 'mode': 'rb', 'buffering': -1, 'encoding': None, 'errors': None, 'newline': None, 'closefd': True, 'opener': None, 'ignore_ext': False, 'transport_params': None}\n",
      "INFO:gensim.models.utils_any2vec:loaded (3000000, 300) matrix from c:\\Users\\saurabh\\Documents\\saurabh\\ms\\nus\\ra\\phrase_word2vec\\model\\GoogleNews-vectors-negative300.bin\n",
      "INFO:root:starting training...\n",
      "INFO:gensim.models.base_any2vec:training model with 3 workers on 3000000 vocabulary and 300 features, using sg=0 hs=0 sample=0.001 negative=5 window=5\n",
      "DEBUG:gensim.models.base_any2vec:job loop exiting, total 1 jobs\n",
      "Exception in thread Thread-6:\n",
      "Traceback (most recent call last):\n",
      "  File \"C:\\Program Files\\WindowsApps\\PythonSoftwareFoundation.Python.3.8_3.8.1776.0_x64__qbz5n2kfra8p0\\lib\\threading.py\", line 932, in _bootstrap_inner\n",
      "    self.run()\n",
      "  File \"C:\\Program Files\\WindowsApps\\PythonSoftwareFoundation.Python.3.8_3.8.1776.0_x64__qbz5n2kfra8p0\\lib\\threading.py\", line 870, in run\n",
      "DEBUG:gensim.models.base_any2vec:worker exiting, processed 0 jobs\n",
      "    self._target(*self._args, **self._kwargs)\n",
      "  File \"c:\\Users\\saurabh\\Documents\\virenvs\\general_python3_env\\lib\\site-packages\\gensim\\models\\base_any2vec.py\", line 210, in _worker_loop\n",
      "DEBUG:gensim.models.base_any2vec:worker exiting, processed 0 jobs\n",
      "INFO:gensim.models.base_any2vec:worker thread finished; awaiting finish of 2 more threads\n",
      "INFO:gensim.models.base_any2vec:worker thread finished; awaiting finish of 1 more threads\n",
      "    tally, raw_tally = self._do_train_job(data_iterable, job_parameters, thread_private_mem)\n",
      "  File \"c:\\Users\\saurabh\\Documents\\virenvs\\general_python3_env\\lib\\site-packages\\gensim\\models\\word2vec.py\", line 638, in _do_train_job\n",
      "    tally += train_batch_cbow(self, sentences, alpha, work, neu1, self.compute_loss)\n",
      "  File \"gensim\\models\\word2vec_inner.pyx\", line 622, in gensim.models.word2vec_inner.train_batch_cbow\n",
      "  File \"gensim\\models\\word2vec_inner.pyx\", line 479, in gensim.models.word2vec_inner.init_w2v_config\n",
      "AttributeError: 'Word2VecTrainables' object has no attribute 'vectors_lockf'\n"
     ]
    }
   ],
   "source": [
    "obj = PhraseWord2VEC()\n",
    "obj.train(tag_set, abstract_list, pre_trained_model, output_model_file)"
   ]
  },
  {
   "cell_type": "code",
   "execution_count": null,
   "metadata": {},
   "outputs": [],
   "source": [
    "Word2"
   ]
  }
 ]
}